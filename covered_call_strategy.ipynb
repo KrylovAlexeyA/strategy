{
 "cells": [
  {
   "cell_type": "code",
   "execution_count": 45,
   "metadata": {
    "collapsed": true,
    "pycharm": {
     "name": "#%%\n"
    }
   },
   "outputs": [],
   "source": [
    "import matplotlib.pyplot as plt\n",
    "import pandas as pd\n",
    "from math import log, e\n",
    "from scipy import stats"
   ]
  },
  {
   "cell_type": "code",
   "execution_count": 46,
   "outputs": [],
   "source": [
    "def bsm(stock_price, strike_price, rate, time, volatility, dividend=0):\n",
    "\n",
    "    d1 = (log(stock_price / strike_price) + (rate - dividend + volatility ** 2 / 2) * time) / (volatility * time ** .5)\n",
    "    d2 = d1 - volatility * time ** .5\n",
    "\n",
    "    call_option = stats.norm.cdf(d1) * stock_price * e ** (-dividend * time) - stats.norm.cdf(d2) * strike_price * e ** (\n",
    "            -rate * time)\n",
    "\n",
    "    return call_option"
   ],
   "metadata": {
    "collapsed": false,
    "pycharm": {
     "name": "#%%\n"
    }
   }
  },
  {
   "cell_type": "code",
   "execution_count": 47,
   "outputs": [
    {
     "name": "stdout",
     "output_type": "stream",
     "text": [
      "            date    ticker  open  high   low  close      volume  \\\n",
      "3787  2021-01-04  sh600000  9.18  9.26  9.09   9.22  62906939.0   \n",
      "3788  2021-01-05  sh600000  9.21  9.21  9.06   9.21  53859177.0   \n",
      "3789  2021-01-06  sh600000  9.16  9.36  9.16   9.35  61881321.0   \n",
      "3790  2021-01-07  sh600000  9.36  9.45  9.20   9.34  57090442.0   \n",
      "3791  2021-01-08  sh600000  9.36  9.42  9.26   9.36  55801455.0   \n",
      "...          ...       ...   ...   ...   ...    ...         ...   \n",
      "4025  2021-12-27  sh600000  8.54  8.57  8.53   8.56  19527735.0   \n",
      "4026  2021-12-28  sh600000  8.56  8.59  8.54   8.57  29833707.0   \n",
      "4027  2021-12-29  sh600000  8.57  8.58  8.53   8.54  20050130.0   \n",
      "4028  2021-12-30  sh600000  8.54  8.58  8.53   8.54  23272484.0   \n",
      "4029  2021-12-31  sh600000  8.54  8.57  8.53   8.53  22929621.0   \n",
      "\n",
      "      outstanding_share  turnover      pe  pe_ttm      pb      ps  ps_ttm  \\\n",
      "3787       2.935214e+10  0.002143  4.8280  5.1430  0.5574  1.4916  1.4734   \n",
      "3788       2.935214e+10  0.001835  4.8230  5.1377  0.5568  1.4900  1.4719   \n",
      "3789       2.935214e+10  0.002108  4.8928  5.2120  0.5649  1.5116  1.4932   \n",
      "3790       2.935214e+10  0.001945  4.8878  5.2067  0.5643  1.5100  1.4917   \n",
      "3791       2.935214e+10  0.001901  4.8978  5.2173  0.5655  1.5131  1.4947   \n",
      "...                 ...       ...     ...     ...     ...     ...     ...   \n",
      "4025       2.935217e+10  0.000665  4.3078  4.5584  0.4570  1.2794  1.3145   \n",
      "4026       2.935217e+10  0.001016  4.3129  4.5637  0.4575  1.2809  1.3161   \n",
      "4027       2.935217e+10  0.000683  4.2978  4.5478  0.4559  1.2764  1.3115   \n",
      "4028       2.935217e+10  0.000793  4.2978  4.5478  0.4559  1.2764  1.3115   \n",
      "4029       2.935217e+10  0.000781  4.2927  4.5424  0.4554  1.2749  1.3099   \n",
      "\n",
      "      dv_ratio  dv_ttm      total_mv  qfq_factor  \n",
      "3787    6.1919  6.1919  2.844222e+07         1.0  \n",
      "3788    6.1983  6.1983  2.841287e+07         1.0  \n",
      "3789    6.1100  6.1100  2.882380e+07         1.0  \n",
      "3790    6.1162  6.1162  2.879445e+07         1.0  \n",
      "3791    6.1038  6.1038  2.885315e+07         1.0  \n",
      "...        ...     ...           ...         ...  \n",
      "4025    7.0093  5.6075  2.512545e+07         1.0  \n",
      "4026    7.0012  5.6009  2.515481e+07         1.0  \n",
      "4027    7.0258  5.6206  2.506675e+07         1.0  \n",
      "4028    7.0258  5.6206  2.506675e+07         1.0  \n",
      "4029    7.0340  5.6272  2.503740e+07         1.0  \n",
      "\n",
      "[243 rows x 18 columns]\n"
     ]
    }
   ],
   "source": [
    "stockData = pd.read_csv('/Users/krylovalexey/Downloads/archive/stock_data.csv').sort_values('date')\n",
    "test = stockData.query(\"ticker == 'sh600000' and date >= '2021-01-01' and date <= '2021-6-30'\")\n",
    "print(test)"
   ],
   "metadata": {
    "collapsed": false,
    "pycharm": {
     "name": "#%%\n"
    }
   }
  },
  {
   "cell_type": "code",
   "execution_count": 48,
   "outputs": [
    {
     "name": "stdout",
     "output_type": "stream",
     "text": [
      "[['2021-01-04' 'sh600000' 9.18 9.26 9.09 9.22 62906939.0 29352140893.0\n",
      "  0.0021431806023731 4.828 5.143 0.5574 1.4916 1.4734 6.1919 6.1919\n",
      "  28442217.9691 1.0]]\n"
     ]
    }
   ],
   "source": [
    "first_day = test[0:1]\n",
    "print(first_day.values)"
   ],
   "metadata": {
    "collapsed": false,
    "pycharm": {
     "name": "#%%\n"
    }
   }
  },
  {
   "cell_type": "code",
   "execution_count": 49,
   "outputs": [],
   "source": [
    "def get_mid(data):\n",
    "    return (data['high'] + data['low']) / 2.0"
   ],
   "metadata": {
    "collapsed": false,
    "pycharm": {
     "name": "#%%\n"
    }
   }
  },
  {
   "cell_type": "code",
   "execution_count": 50,
   "outputs": [
    {
     "name": "stdout",
     "output_type": "stream",
     "text": [
      "[0.0922]\n",
      "浦发银行 цена закрытия акции: [9.175] в первый день\n"
     ]
    }
   ],
   "source": [
    "my_stock_price = get_mid(first_day)\n",
    "strike_price = 9.5\n",
    "rf_rate = first_day['close'] * .01\n",
    "volatility = 0.30\n",
    "t = 0.5 # 6 месяцев\n",
    "dividend = 0 # условно принимаем за 0\n",
    "print(rf_rate.values)\n",
    "print(f'浦发银行 цена закрытия акции: {my_stock_price.values} в первый день')"
   ],
   "metadata": {
    "collapsed": false,
    "pycharm": {
     "name": "#%%\n"
    }
   }
  },
  {
   "cell_type": "code",
   "execution_count": 51,
   "outputs": [
    {
     "name": "stdout",
     "output_type": "stream",
     "text": [
      "BSM оценка на 6 месяцев для 浦发银行 call опциона: $[823.25344676]\n"
     ]
    }
   ],
   "source": [
    "call_option = bsm(\n",
    "    stock_price=my_stock_price.values,\n",
    "    strike_price=strike_price,\n",
    "    rate=rf_rate.values,\n",
    "    time=t,\n",
    "    volatility=volatility,\n",
    "    dividend=dividend)\n",
    "\n",
    "print(f'BSM оценка на 6 месяцев для 浦发银行 call опциона: ${1000 * call_option}')"
   ],
   "metadata": {
    "collapsed": false,
    "pycharm": {
     "name": "#%%\n"
    }
   }
  },
  {
   "cell_type": "code",
   "execution_count": 57,
   "outputs": [
    {
     "name": "stdout",
     "output_type": "stream",
     "text": [
      "Текущий объем портфеля: [9175.]\n"
     ]
    }
   ],
   "source": [
    "my_holdings = my_stock_price.values * 1000\n",
    "print(f'Текущий объем портфеля: {my_holdings}')"
   ],
   "metadata": {
    "collapsed": false,
    "pycharm": {
     "name": "#%%\n"
    }
   }
  },
  {
   "cell_type": "code",
   "execution_count": 58,
   "outputs": [
    {
     "name": "stdout",
     "output_type": "stream",
     "text": [
      "Премия за продажу покрытого колла составляет: [89.7278961]\n"
     ]
    }
   ],
   "source": [
    "premuium_yield = (call_option * 1000) / my_holdings\n",
    "\n",
    "print(f'Премия за продажу покрытого колла составляет: {premuium_yield * 1000}')"
   ],
   "metadata": {
    "collapsed": false,
    "pycharm": {
     "name": "#%%\n"
    }
   }
  },
  {
   "cell_type": "code",
   "execution_count": 59,
   "outputs": [
    {
     "name": "stdout",
     "output_type": "stream",
     "text": [
      "[ 9.175  9.135  9.26   9.325  9.34   9.335  9.22   9.33   9.385  9.59\n",
      "  9.515  9.615  9.585  9.52   9.39   9.26   9.255  9.305  9.21   9.415\n",
      "  9.7    9.815  9.755  9.77  10.03  10.15  10.125 10.19  10.355 10.42\n",
      " 10.305 10.33  10.205 10.21  10.165 10.065 10.025 10.165 10.32  10.295\n",
      " 10.345 10.26  10.195 10.34  10.4   10.53  10.59  10.48  10.45  10.285\n",
      " 10.235 10.24  10.205 10.18  10.155  9.995 10.295 10.43  10.385 10.29\n",
      " 10.22  10.15  10.12  10.075 10.12  10.23  10.18   9.99   9.98  10.04\n",
      " 10.025 10.035  9.995  9.925  9.895  9.795  9.76   9.905  9.635  9.59\n",
      "  9.585  9.495  9.505  9.625  9.605  9.63   9.72   9.7    9.65   9.615\n",
      "  9.66   9.61   9.705  9.855  9.85   9.81   9.785  9.73   9.69   9.755\n",
      "  9.79   9.745  9.76   9.785  9.76   9.705  9.595  9.59   9.59   9.565\n",
      "  9.57   9.575  9.515  9.53   9.575  9.55   9.53   9.515  9.545  9.505\n",
      "  9.43   9.47   9.51   9.505  9.475  9.465  9.46   9.41   9.41   9.54\n",
      "  9.465  9.5    9.575  9.64   9.62   9.44   9.26   9.26   9.19   9.07\n",
      "  9.105  9.09   9.095  9.08   9.04   9.15   9.165  9.225  9.19   9.185\n",
      "  9.215  9.23   9.275  9.265  9.24   9.255  9.235  9.2    9.165  9.18\n",
      "  9.     8.99   9.12   9.2    9.245  9.255  9.275  9.34   9.295  9.395\n",
      "  9.385  9.3    9.195  9.17   9.125  9.02   9.08   9.035  8.995  9.035\n",
      "  9.03   9.015  9.09   9.175  9.14   9.1    9.055  9.065  9.04   9.04\n",
      "  9.025  9.05   9.075  9.04   9.05   8.99   8.98   8.965  8.69   8.625\n",
      "  8.55   8.52   8.515  8.495  8.52   8.485  8.545  8.615  8.7    8.685\n",
      "  8.685  8.595  8.625  8.625  8.655  8.64   8.65   8.585  8.545  8.55\n",
      "  8.545  8.565  8.56   8.605  8.65   8.665  8.73   8.75   8.715  8.595\n",
      "  8.555  8.58   8.59   8.58   8.6    8.605  8.58   8.56   8.55   8.565\n",
      "  8.555  8.555  8.55 ]\n",
      "[array([9998.25344676]), array([9958.25344676]), array([10083.25344676]), array([10148.25344676]), array([10163.25344676]), array([10158.25344676]), array([10043.25344676]), array([10153.25344676]), array([10208.25344676]), array([10323.25344676]), array([10323.25344676]), array([10323.25344676]), array([10323.25344676]), array([10323.25344676]), array([10213.25344676]), array([10083.25344676]), array([10078.25344676]), array([10128.25344676]), array([10033.25344676]), array([10238.25344676]), array([10323.25344676]), array([10323.25344676]), array([10323.25344676]), array([10323.25344676]), array([10323.25344676]), array([10323.25344676]), array([10323.25344676]), array([10323.25344676]), array([10323.25344676]), array([10323.25344676]), array([10323.25344676]), array([10323.25344676]), array([10323.25344676]), array([10323.25344676]), array([10323.25344676]), array([10323.25344676]), array([10323.25344676]), array([10323.25344676]), array([10323.25344676]), array([10323.25344676]), array([10323.25344676]), array([10323.25344676]), array([10323.25344676]), array([10323.25344676]), array([10323.25344676]), array([10323.25344676]), array([10323.25344676]), array([10323.25344676]), array([10323.25344676]), array([10323.25344676]), array([10323.25344676]), array([10323.25344676]), array([10323.25344676]), array([10323.25344676]), array([10323.25344676]), array([10323.25344676]), array([10323.25344676]), array([10323.25344676]), array([10323.25344676]), array([10323.25344676]), array([10323.25344676]), array([10323.25344676]), array([10323.25344676]), array([10323.25344676]), array([10323.25344676]), array([10323.25344676]), array([10323.25344676]), array([10323.25344676]), array([10323.25344676]), array([10323.25344676]), array([10323.25344676]), array([10323.25344676]), array([10323.25344676]), array([10323.25344676]), array([10323.25344676]), array([10323.25344676]), array([10323.25344676]), array([10323.25344676]), array([10323.25344676]), array([10323.25344676]), array([10323.25344676]), array([10318.25344676]), array([10323.25344676]), array([10323.25344676]), array([10323.25344676]), array([10323.25344676]), array([10323.25344676]), array([10323.25344676]), array([10323.25344676]), array([10323.25344676]), array([10323.25344676]), array([10323.25344676]), array([10323.25344676]), array([10323.25344676]), array([10323.25344676]), array([10323.25344676]), array([10323.25344676]), array([10323.25344676]), array([10323.25344676]), array([10323.25344676]), array([10323.25344676]), array([10323.25344676]), array([10323.25344676]), array([10323.25344676]), array([10323.25344676]), array([10323.25344676]), array([10323.25344676]), array([10323.25344676]), array([10323.25344676]), array([10323.25344676]), array([10323.25344676]), array([10323.25344676]), array([10323.25344676]), array([10323.25344676]), array([10323.25344676]), array([10323.25344676]), array([10323.25344676]), array([10323.25344676]), array([10323.25344676]), array([10323.25344676]), array([10253.25344676]), array([10293.25344676]), array([10323.25344676]), array([10323.25344676]), array([10298.25344676]), array([10288.25344676]), array([10283.25344676]), array([10233.25344676]), array([10233.25344676]), array([10323.25344676]), array([10288.25344676]), array([10323.25344676]), array([10323.25344676]), array([10323.25344676]), array([10323.25344676]), array([10263.25344676]), array([10083.25344676]), array([10083.25344676]), array([10013.25344676]), array([9893.25344676]), array([9928.25344676]), array([9913.25344676]), array([9918.25344676]), array([9903.25344676]), array([9863.25344676]), array([9973.25344676]), array([9988.25344676]), array([10048.25344676]), array([10013.25344676]), array([10008.25344676]), array([10038.25344676]), array([10053.25344676]), array([10098.25344676]), array([10088.25344676]), array([10063.25344676]), array([10078.25344676]), array([10058.25344676]), array([10023.25344676]), array([9988.25344676]), array([10003.25344676]), array([9823.25344676]), array([9813.25344676]), array([9943.25344676]), array([10023.25344676]), array([10068.25344676]), array([10078.25344676]), array([10098.25344676]), array([10163.25344676]), array([10118.25344676]), array([10218.25344676]), array([10208.25344676]), array([10123.25344676]), array([10018.25344676]), array([9993.25344676]), array([9948.25344676]), array([9843.25344676]), array([9903.25344676]), array([9858.25344676]), array([9818.25344676]), array([9858.25344676]), array([9853.25344676]), array([9838.25344676]), array([9913.25344676]), array([9998.25344676]), array([9963.25344676]), array([9923.25344676]), array([9878.25344676]), array([9888.25344676]), array([9863.25344676]), array([9863.25344676]), array([9848.25344676]), array([9873.25344676]), array([9898.25344676]), array([9863.25344676]), array([9873.25344676]), array([9813.25344676]), array([9803.25344676]), array([9788.25344676]), array([9513.25344676]), array([9448.25344676]), array([9373.25344676]), array([9343.25344676]), array([9338.25344676]), array([9318.25344676]), array([9343.25344676]), array([9308.25344676]), array([9368.25344676]), array([9438.25344676]), array([9523.25344676]), array([9508.25344676]), array([9508.25344676]), array([9418.25344676]), array([9448.25344676]), array([9448.25344676]), array([9478.25344676]), array([9463.25344676]), array([9473.25344676]), array([9408.25344676]), array([9368.25344676]), array([9373.25344676]), array([9368.25344676]), array([9388.25344676]), array([9383.25344676]), array([9428.25344676]), array([9473.25344676]), array([9488.25344676]), array([9553.25344676]), array([9573.25344676]), array([9538.25344676]), array([9418.25344676]), array([9378.25344676]), array([9403.25344676]), array([9413.25344676]), array([9403.25344676]), array([9423.25344676]), array([9428.25344676]), array([9403.25344676]), array([9383.25344676]), array([9373.25344676]), array([9388.25344676]), array([9378.25344676]), array([9378.25344676]), array([9373.25344676])]\n",
      "243\n"
     ]
    }
   ],
   "source": [
    "stock_price = get_mid(test)\n",
    "cov_call = [(stock + call_option) * 1000 if (stock + call_option) * 1000 < (strike_price + call_option) * 1000 else (strike_price + call_option) * 1000 for\n",
    "            stock in stock_price]\n",
    "print(stock_price.values)\n",
    "print(cov_call)\n",
    "print(stock_price.size)"
   ],
   "metadata": {
    "collapsed": false,
    "pycharm": {
     "name": "#%%\n"
    }
   }
  },
  {
   "cell_type": "code",
   "execution_count": 60,
   "outputs": [
    {
     "name": "stderr",
     "output_type": "stream",
     "text": [
      "No artists with labels found to put in legend.  Note that artists whose label start with an underscore are ignored when legend() is called with no argument.\n"
     ]
    },
    {
     "data": {
      "text/plain": "<Figure size 640x480 with 1 Axes>",
      "image/png": "[encoded data removed]"
     },
     "metadata": {},
     "output_type": "display_data"
    }
   ],
   "source": [
    "plt.plot(get_mid(test), cov_call)\n",
    "plt.plot(stock_price, stock_price * 1000)\n",
    "\n",
    "plt.xlabel('Value of Position')\n",
    "plt.ylabel('Stock Price')\n",
    "plt.grid()\n",
    "plt.legend();"
   ],
   "metadata": {
    "collapsed": false,
    "pycharm": {
     "name": "#%%\n"
    }
   }
  }
 ],
 "metadata": {
  "kernelspec": {
   "display_name": "Python 3",
   "language": "python",
   "name": "python3"
  },
  "language_info": {
   "codemirror_mode": {
    "name": "ipython",
    "version": 2
   },
   "file_extension": ".py",
   "mimetype": "text/x-python",
   "name": "python",
   "nbconvert_exporter": "python",
   "pygments_lexer": "ipython2",
   "version": "2.7.6"
  }
 },
 "nbformat": 4,
 "nbformat_minor": 0
}