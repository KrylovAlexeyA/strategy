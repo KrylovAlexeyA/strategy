{
 "cells": [
  {
   "cell_type": "code",
   "execution_count": 61,
   "metadata": {
    "collapsed": true,
    "pycharm": {
     "name": "#%%\n"
    }
   },
   "outputs": [],
   "source": [
    "import matplotlib.pyplot as plt\n",
    "import pandas as pd\n",
    "from math import log, e\n",
    "from scipy import stats"
   ]
  },
  {
   "cell_type": "code",
   "execution_count": 62,
   "outputs": [],
   "source": [
    "def bsm(stock_price, strike_price, rate, time, volatility, dividend=0):\n",
    "\n",
    "    d1 = (log(stock_price / strike_price) + (rate - dividend + volatility ** 2 / 2) * time) / (volatility * time ** .5)\n",
    "    d2 = d1 - volatility * time ** .5\n",
    "\n",
    "    call_option = stats.norm.cdf(d1) * stock_price * e ** (-dividend * time) - stats.norm.cdf(d2) * strike_price * e ** (\n",
    "            -rate * time)\n",
    "\n",
    "    return call_option"
   ],
   "metadata": {
    "collapsed": false,
    "pycharm": {
     "name": "#%%\n"
    }
   }
  },
  {
   "cell_type": "code",
   "execution_count": 63,
   "outputs": [],
   "source": [
    "stockData = pd.read_csv('/Users/krylovalexey/Downloads/archive/stock_data.csv').sort_values('date')\n",
    "test = stockData.query(\"ticker == 'sh600000' and date >= '2021-01-01' and date <= '2021-6-30'\")"
   ],
   "metadata": {
    "collapsed": false,
    "pycharm": {
     "name": "#%%\n"
    }
   }
  },
  {
   "cell_type": "code",
   "execution_count": 64,
   "outputs": [],
   "source": [
    "first_day = test[0:1]"
   ],
   "metadata": {
    "collapsed": false,
    "pycharm": {
     "name": "#%%\n"
    }
   }
  },
  {
   "cell_type": "code",
   "execution_count": 65,
   "outputs": [],
   "source": [
    "def get_mid(data):\n",
    "    return (data['high'] + data['low']) / 2.0"
   ],
   "metadata": {
    "collapsed": false,
    "pycharm": {
     "name": "#%%\n"
    }
   }
  },
  {
   "cell_type": "code",
   "execution_count": 66,
   "outputs": [
    {
     "name": "stdout",
     "output_type": "stream",
     "text": [
      "浦发银行 цена закрытия акции: [9.175] в первый день\n"
     ]
    }
   ],
   "source": [
    "my_stock_price = get_mid(first_day)\n",
    "strike_price = 9.5\n",
    "rf_rate = first_day['close'] * .01\n",
    "volatility = 0.30\n",
    "t = 0.5 # 6 месяцев\n",
    "dividend = 0 # условно принимаем за 0\n",
    "print(f'浦发银行 цена закрытия акции: {my_stock_price.values} в первый день')"
   ],
   "metadata": {
    "collapsed": false,
    "pycharm": {
     "name": "#%%\n"
    }
   }
  },
  {
   "cell_type": "code",
   "execution_count": 67,
   "outputs": [
    {
     "name": "stdout",
     "output_type": "stream",
     "text": [
      "BSM оценка на 6 месяцев для 浦发银行 call опциона: $[823.25344676]\n"
     ]
    }
   ],
   "source": [
    "call_option = bsm(\n",
    "    stock_price=my_stock_price.values,\n",
    "    strike_price=strike_price,\n",
    "    rate=rf_rate.values,\n",
    "    time=t,\n",
    "    volatility=volatility,\n",
    "    dividend=dividend)\n",
    "\n",
    "print(f'BSM оценка на 6 месяцев для 浦发银行 call опциона: ${1000 * call_option}')"
   ],
   "metadata": {
    "collapsed": false,
    "pycharm": {
     "name": "#%%\n"
    }
   }
  },
  {
   "cell_type": "code",
   "execution_count": 68,
   "outputs": [
    {
     "name": "stdout",
     "output_type": "stream",
     "text": [
      "Текущий объем портфеля: [9175.]\n"
     ]
    }
   ],
   "source": [
    "my_holdings = my_stock_price.values * 1000\n",
    "print(f'Текущий объем портфеля: {my_holdings}')"
   ],
   "metadata": {
    "collapsed": false,
    "pycharm": {
     "name": "#%%\n"
    }
   }
  },
  {
   "cell_type": "code",
   "execution_count": 69,
   "outputs": [
    {
     "name": "stdout",
     "output_type": "stream",
     "text": [
      "Премия за продажу покрытого колла составляет: [89.7278961]\n"
     ]
    }
   ],
   "source": [
    "premuium_yield = (call_option * 1000) / my_holdings\n",
    "\n",
    "print(f'Премия за продажу покрытого колла составляет: {premuium_yield * 1000}')"
   ],
   "metadata": {
    "collapsed": false,
    "pycharm": {
     "name": "#%%\n"
    }
   }
  },
  {
   "cell_type": "code",
   "execution_count": 70,
   "outputs": [],
   "source": [
    "stock_price = get_mid(test)\n",
    "cov_call = [(stock + call_option) * 1000 if (stock + call_option) * 1000 < (strike_price + call_option) * 1000 else (strike_price + call_option) * 1000 for\n",
    "            stock in stock_price]"
   ],
   "metadata": {
    "collapsed": false,
    "pycharm": {
     "name": "#%%\n"
    }
   }
  },
  {
   "cell_type": "code",
   "execution_count": 72,
   "outputs": [
    {
     "data": {
      "text/plain": "<Figure size 640x480 with 1 Axes>",
      "image/png": "[encoded data removed]"
     },
     "metadata": {},
     "output_type": "display_data"
    }
   ],
   "source": [
    "plt.plot(get_mid(test), cov_call)\n",
    "plt.plot(stock_price, stock_price * 1000)\n",
    "\n",
    "plt.xlabel('Value of Position')\n",
    "plt.ylabel('Stock Price')\n",
    "plt.grid()"
   ],
   "metadata": {
    "collapsed": false,
    "pycharm": {
     "name": "#%%\n"
    }
   }
  }
 ],
 "metadata": {
  "kernelspec": {
   "display_name": "Python 3",
   "language": "python",
   "name": "python3"
  },
  "language_info": {
   "codemirror_mode": {
    "name": "ipython",
    "version": 2
   },
   "file_extension": ".py",
   "mimetype": "text/x-python",
   "name": "python",
   "nbconvert_exporter": "python",
   "pygments_lexer": "ipython2",
   "version": "2.7.6"
  }
 },
 "nbformat": 4,
 "nbformat_minor": 0
}